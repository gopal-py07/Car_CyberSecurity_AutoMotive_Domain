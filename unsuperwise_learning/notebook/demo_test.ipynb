{
 "cells": [
  {
   "cell_type": "code",
   "execution_count": 9,
   "id": "1acf9a52-75b1-4298-ab84-b9297db212ba",
   "metadata": {
    "execution": {
     "iopub.execute_input": "2024-09-20T11:18:14.776552Z",
     "iopub.status.busy": "2024-09-20T11:18:14.775538Z",
     "iopub.status.idle": "2024-09-20T11:28:23.078223Z",
     "shell.execute_reply": "2024-09-20T11:28:23.077211Z",
     "shell.execute_reply.started": "2024-09-20T11:18:14.776552Z"
    }
   },
   "outputs": [
    {
     "name": "stderr",
     "output_type": "stream",
     "text": [
      "2024-09-20 16:48:15,046 - INFO - Data loaded and concatenated. Total rows: 12000, Total columns: 32\n",
      "2024-09-20 16:48:17,590 - INFO - Data preprocessing complete. Shape after preprocessing: (12000, 3933)\n",
      "2024-09-20 16:48:17,838 - INFO - DataLoader created with batch size 64.\n",
      "2024-09-20 16:48:17,854 - INFO - Autoencoder initialized with input size 3933.\n",
      "2024-09-20 16:48:41,516 - INFO - Epoch 1/50, Loss: 0.0034799238201230764\n",
      "2024-09-20 16:49:08,048 - INFO - Epoch 2/50, Loss: 0.003543647238984704\n",
      "2024-09-20 16:49:20,638 - INFO - Epoch 3/50, Loss: 0.003451744094491005\n",
      "2024-09-20 16:49:30,225 - INFO - Epoch 4/50, Loss: 0.002929840935394168\n",
      "2024-09-20 16:49:34,854 - INFO - Epoch 5/50, Loss: 0.003345710225403309\n",
      "2024-09-20 16:49:41,270 - INFO - Epoch 6/50, Loss: 0.0032985995057970285\n",
      "2024-09-20 16:49:47,249 - INFO - Epoch 7/50, Loss: 0.002814297564327717\n",
      "2024-09-20 16:49:54,237 - INFO - Epoch 8/50, Loss: 0.0034375805407762527\n",
      "2024-09-20 16:50:00,205 - INFO - Epoch 9/50, Loss: 0.0032155350781977177\n",
      "2024-09-20 16:50:04,112 - INFO - Epoch 10/50, Loss: 0.0031564130913466215\n",
      "2024-09-20 16:50:07,644 - INFO - Epoch 11/50, Loss: 0.0036134705878794193\n",
      "2024-09-20 16:50:12,108 - INFO - Epoch 12/50, Loss: 0.0029949117451906204\n",
      "2024-09-20 16:50:17,246 - INFO - Epoch 13/50, Loss: 0.0027329910080879927\n",
      "2024-09-20 16:50:23,384 - INFO - Epoch 14/50, Loss: 0.0024648357648402452\n",
      "2024-09-20 16:50:30,249 - INFO - Epoch 15/50, Loss: 0.004223654977977276\n",
      "2024-09-20 16:50:37,048 - INFO - Epoch 16/50, Loss: 0.0025170480366796255\n",
      "2024-09-20 16:50:44,300 - INFO - Epoch 17/50, Loss: 0.003963324707001448\n",
      "2024-09-20 16:50:52,080 - INFO - Epoch 18/50, Loss: 0.0024082546588033438\n",
      "2024-09-20 16:51:04,591 - INFO - Epoch 19/50, Loss: 0.002643479499965906\n",
      "2024-09-20 16:51:16,253 - INFO - Epoch 20/50, Loss: 0.0023485112469643354\n",
      "2024-09-20 16:51:27,501 - INFO - Epoch 21/50, Loss: 0.0028673403430730104\n",
      "2024-09-20 16:51:35,158 - INFO - Epoch 22/50, Loss: 0.0037105337250977755\n",
      "2024-09-20 16:51:45,529 - INFO - Epoch 23/50, Loss: 0.002564293798059225\n",
      "2024-09-20 16:52:00,488 - INFO - Epoch 24/50, Loss: 0.0022481312043964863\n",
      "2024-09-20 16:52:14,011 - INFO - Epoch 25/50, Loss: 0.002244678558781743\n",
      "2024-09-20 16:52:26,393 - INFO - Epoch 26/50, Loss: 0.002249781507998705\n",
      "2024-09-20 16:52:41,486 - INFO - Epoch 27/50, Loss: 0.002333361655473709\n",
      "2024-09-20 16:52:52,659 - INFO - Epoch 28/50, Loss: 0.002266427269205451\n",
      "2024-09-20 16:53:14,420 - INFO - Epoch 29/50, Loss: 0.0025607424322515726\n",
      "2024-09-20 16:53:40,015 - INFO - Epoch 30/50, Loss: 0.0025690696202218533\n",
      "2024-09-20 16:53:56,328 - INFO - Epoch 31/50, Loss: 0.0021735599730163813\n",
      "2024-09-20 16:54:40,649 - INFO - Epoch 32/50, Loss: 0.002621938707306981\n",
      "2024-09-20 16:55:01,453 - INFO - Epoch 33/50, Loss: 0.00267083034850657\n",
      "2024-09-20 16:55:24,786 - INFO - Epoch 34/50, Loss: 0.0029774007853120565\n",
      "2024-09-20 16:55:38,414 - INFO - Epoch 35/50, Loss: 0.003187892958521843\n",
      "2024-09-20 16:55:50,827 - INFO - Epoch 36/50, Loss: 0.0025629957672208548\n",
      "2024-09-20 16:55:57,414 - INFO - Epoch 37/50, Loss: 0.0021108912769705057\n",
      "2024-09-20 16:56:06,352 - INFO - Epoch 38/50, Loss: 0.0023842251393944025\n",
      "2024-09-20 16:56:11,283 - INFO - Epoch 39/50, Loss: 0.002659027697518468\n",
      "2024-09-20 16:56:16,089 - INFO - Epoch 40/50, Loss: 0.003068668767809868\n",
      "2024-09-20 16:56:23,813 - INFO - Epoch 41/50, Loss: 0.0020728642120957375\n",
      "2024-09-20 16:56:32,073 - INFO - Epoch 42/50, Loss: 0.002529420657083392\n",
      "2024-09-20 16:56:51,890 - INFO - Epoch 43/50, Loss: 0.002494033658877015\n",
      "2024-09-20 16:57:15,767 - INFO - Epoch 44/50, Loss: 0.0026311492547392845\n",
      "2024-09-20 16:57:32,333 - INFO - Epoch 45/50, Loss: 0.004041188862174749\n",
      "2024-09-20 16:57:39,894 - INFO - Epoch 46/50, Loss: 0.0023806628305464983\n",
      "2024-09-20 16:57:48,548 - INFO - Epoch 47/50, Loss: 0.002378221834078431\n",
      "2024-09-20 16:58:05,179 - INFO - Epoch 48/50, Loss: 0.0023670734371989965\n",
      "2024-09-20 16:58:14,540 - INFO - Epoch 49/50, Loss: 0.00230088597163558\n",
      "2024-09-20 16:58:20,394 - INFO - Epoch 50/50, Loss: 0.0021008728072047234\n",
      "2024-09-20 16:58:21,796 - INFO - Reconstruction errors calculated.\n",
      "2024-09-20 16:58:21,799 - INFO - Dynamically calculated threshold based on data: 0.003073992771980771\n",
      "2024-09-20 16:58:23,044 - INFO - Anomalies detected at rows (indices): [3, 12, 40, 69, 116, 131, 132, 166]\n",
      "2024-09-20 16:58:23,045 - INFO - Anomaly values (reconstruction errors): [0.0031025989446789026, 0.00310589000582695, 0.003330505220219493, 0.003187640802934766, 0.003164170077070594, 0.00317955669015646, 0.0031001088209450245, 0.003496029879897833]\n",
      "2024-09-20 16:58:23,058 - INFO - Anomalies logged.\n",
      "2024-09-20 16:58:23,059 - WARNING - Driver Alert: Critical anomaly detected at row 3\n",
      "2024-09-20 16:58:23,060 - WARNING - Driver Alert: Critical anomaly detected at row 12\n",
      "2024-09-20 16:58:23,061 - WARNING - Driver Alert: Critical anomaly detected at row 40\n",
      "2024-09-20 16:58:23,062 - WARNING - Driver Alert: Critical anomaly detected at row 69\n",
      "2024-09-20 16:58:23,064 - WARNING - Driver Alert: Critical anomaly detected at row 116\n",
      "2024-09-20 16:58:23,066 - WARNING - Driver Alert: Critical anomaly detected at row 131\n",
      "2024-09-20 16:58:23,066 - WARNING - Driver Alert: Critical anomaly detected at row 132\n",
      "2024-09-20 16:58:23,067 - WARNING - Driver Alert: Critical anomaly detected at row 166\n",
      "2024-09-20 16:58:23,070 - ERROR - ECU ECU_1 is isolated due to suspicious activity.\n",
      "2024-09-20 16:58:23,072 - CRITICAL - Entering safe mode due to anomaly detection...\n"
     ]
    },
    {
     "name": "stdout",
     "output_type": "stream",
     "text": [
      "Number of anomalies detected: 8\n",
      "Anomalies detected at rows (indices): [3, 12, 40, 69, 116, 131, 132, 166]\n",
      "Anomaly values (reconstruction errors): [0.0031025989446789026, 0.00310589000582695, 0.003330505220219493, 0.003187640802934766, 0.003164170077070594, 0.00317955669015646, 0.0031001088209450245, 0.003496029879897833]\n"
     ]
    }
   ],
   "source": []
  },
  {
   "cell_type": "code",
   "execution_count": null,
   "id": "caf56e26-cf6c-4184-b07c-73d217f5a2c7",
   "metadata": {},
   "outputs": [],
   "source": []
  }
 ],
 "metadata": {
  "kernelspec": {
   "display_name": "Python 3 (ipykernel)",
   "language": "python",
   "name": "python3"
  },
  "language_info": {
   "codemirror_mode": {
    "name": "ipython",
    "version": 3
   },
   "file_extension": ".py",
   "mimetype": "text/x-python",
   "name": "python",
   "nbconvert_exporter": "python",
   "pygments_lexer": "ipython3",
   "version": "3.12.3"
  }
 },
 "nbformat": 4,
 "nbformat_minor": 5
}
