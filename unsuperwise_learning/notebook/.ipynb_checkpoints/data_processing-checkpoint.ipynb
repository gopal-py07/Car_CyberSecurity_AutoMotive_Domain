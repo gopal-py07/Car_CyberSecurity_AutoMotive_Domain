{
 "cells": [
  {
   "cell_type": "code",
   "execution_count": 2,
   "id": "68c5b5fb-57d4-4779-ba68-b183b86ff586",
   "metadata": {
    "execution": {
     "iopub.execute_input": "2024-09-15T15:09:36.052823Z",
     "iopub.status.busy": "2024-09-15T15:09:36.052823Z",
     "iopub.status.idle": "2024-09-15T15:09:36.060550Z",
     "shell.execute_reply": "2024-09-15T15:09:36.060550Z",
     "shell.execute_reply.started": "2024-09-15T15:09:36.052823Z"
    }
   },
   "outputs": [],
   "source": [
    "import pandas as pd\n",
    "import os\n",
    "import logging"
   ]
  },
  {
   "cell_type": "code",
   "execution_count": 3,
   "id": "f950d5b7-c842-4706-b844-13fb51f99928",
   "metadata": {
    "execution": {
     "iopub.execute_input": "2024-09-15T15:09:36.090265Z",
     "iopub.status.busy": "2024-09-15T15:09:36.090265Z",
     "iopub.status.idle": "2024-09-15T15:09:36.096597Z",
     "shell.execute_reply": "2024-09-15T15:09:36.096597Z",
     "shell.execute_reply.started": "2024-09-15T15:09:36.090265Z"
    }
   },
   "outputs": [],
   "source": [
    "logging.basicConfig(\n",
    "    filename='../logs/data_preprocessing.log',  \n",
    "    level=logging.INFO,                         \n",
    "    format='%(asctime)s - %(levelname)s - %(message)s', \n",
    ")\n",
    "\n",
    "# Log the start of data preprocessing\n",
    "logging.info('Starting unsupervised learning data preprocessing.')"
   ]
  },
  {
   "cell_type": "code",
   "execution_count": 6,
   "id": "bc22f8be-cdaf-48f4-8b54-4f557a0711de",
   "metadata": {
    "execution": {
     "iopub.execute_input": "2024-09-15T15:09:38.032397Z",
     "iopub.status.busy": "2024-09-15T15:09:38.032397Z",
     "iopub.status.idle": "2024-09-15T15:09:38.041576Z",
     "shell.execute_reply": "2024-09-15T15:09:38.040562Z",
     "shell.execute_reply.started": "2024-09-15T15:09:38.032397Z"
    }
   },
   "outputs": [],
   "source": [
    "# Define the path of data folder\n",
    "data_path = '../data/'"
   ]
  },
  {
   "cell_type": "code",
   "execution_count": 8,
   "id": "0f47c106-9540-4915-8a34-ee5f0ec95193",
   "metadata": {
    "execution": {
     "iopub.execute_input": "2024-09-15T15:09:38.208862Z",
     "iopub.status.busy": "2024-09-15T15:09:38.208862Z",
     "iopub.status.idle": "2024-09-15T15:09:54.698290Z",
     "shell.execute_reply": "2024-09-15T15:09:54.698290Z",
     "shell.execute_reply.started": "2024-09-15T15:09:38.208862Z"
    }
   },
   "outputs": [],
   "source": [
    "\n",
    "try:\n",
    "    dos_data = pd.read_csv(os.path.join(data_path, \"Dos_dataset.csv\"))\n",
    "    #print(f\"dos data head /n{dos_data.head()}\")\n",
    "    #print(f\"dos data tail /n{dos_data.tail()}\")\n",
    "    logging.info(f\"dos data head /n{dos_data.head()}\")\n",
    "    logging.info(f\"dos data tail /n{dos_data.tail()}\")\n",
    "    \n",
    "    fuzzy_data = pd.read_csv(os.path.join(data_path, \"Fuzzy_dataset.csv\"))\n",
    "    #print(f\"fuzzy data head /n{fuzzy_data.head()}\")\n",
    "    #print(f\"fuzzy data tail /n{fuzzy_data.tail()}\")\n",
    "    logging.info(f\"fuzzy data head /n{fuzzy_data.head()}\")\n",
    "    logging.info(f\"fuzzy data tail /n{fuzzy_data.tail()}\")\n",
    "    \n",
    "    gear_data = pd.read_csv(os.path.join(data_path, \"gear_dataset.csv\"))\n",
    "    #print(f\"gear data head /n{gear_data.head()}\")\n",
    "    #print(f\"gear data tail /n{gear_data.tail()}\")\n",
    "    logging.info(f\"gear data head /n{gear_data.head()}\")\n",
    "    logging.info(f\"gear data tail /n{gear_data.tail()}\")\n",
    "    \n",
    "    rpm_data = pd.read_csv(os.path.join(data_path, \"RPM_dataset.csv\"))\n",
    "    #print(f\"rpm data head /n{rpm_data.head()}\")\n",
    "    #print(f\"rpm data tail /n{rpm_data.tail()}\")\n",
    "    logging.info(f\"rpm data head /n{rpm_data.head()}\")\n",
    "    logging.info(f\"rpm data tail /n{rpm_data.tail()}\")\n",
    "    logging.info('Datasets loaded successfully.')\n",
    "except Exception as e:\n",
    "    loggging.error(f'Error in data load...{e}')"
   ]
  },
  {
   "cell_type": "code",
   "execution_count": 9,
   "id": "de83a0fb-245b-4a87-be43-44a8614712a5",
   "metadata": {
    "execution": {
     "iopub.execute_input": "2024-09-15T15:09:54.709726Z",
     "iopub.status.busy": "2024-09-15T15:09:54.709726Z",
     "iopub.status.idle": "2024-09-15T15:09:57.938036Z",
     "shell.execute_reply": "2024-09-15T15:09:57.938036Z",
     "shell.execute_reply.started": "2024-09-15T15:09:54.709726Z"
    }
   },
   "outputs": [],
   "source": [
    "# combined datasent in one dataframe and log the caction\n",
    "combined_data = pd.concat([dos_data, fuzzy_data, gear_data, rpm_data], ignore_index= True)\n",
    "logging.info(\"Dataset combine successfully. /n{combined_data}\")"
   ]
  },
  {
   "cell_type": "code",
   "execution_count": 10,
   "id": "8efed4e2-1b40-466f-9648-0e0934aeefe3",
   "metadata": {
    "execution": {
     "iopub.execute_input": "2024-09-15T15:09:57.941045Z",
     "iopub.status.busy": "2024-09-15T15:09:57.940043Z",
     "iopub.status.idle": "2024-09-15T15:10:47.109543Z",
     "shell.execute_reply": "2024-09-15T15:10:47.109013Z",
     "shell.execute_reply.started": "2024-09-15T15:09:57.941045Z"
    }
   },
   "outputs": [
    {
     "name": "stderr",
     "output_type": "stream",
     "text": [
      "C:\\Users\\11549\\AppData\\Local\\Temp\\ipykernel_9312\\324720736.py:5: FutureWarning: DataFrame.fillna with 'method' is deprecated and will raise in a future version. Use obj.ffill() or obj.bfill() instead.\n",
      "  combined_data.fillna(method='ffill', inplace=True)\n"
     ]
    }
   ],
   "source": [
    "# check messing value and handle them by forword felling, the log it\n",
    "missing_values = combined_data.isnull().sum().sum() # # Total number of missing values\n",
    "#print(messing_values)\n",
    "if missing_values > 0:\n",
    "    combined_data.fillna(method='ffill', inplace=True)\n",
    "    logging.info(f\"Missing values handled by forward filling. Total missing values: {missing_values}\")\n",
    "else:\n",
    "     logging.info('No missing values found.')"
   ]
  },
  {
   "cell_type": "code",
   "execution_count": 11,
   "id": "b0980d6d-c4c6-4402-bbb8-895a1e54a474",
   "metadata": {
    "execution": {
     "iopub.execute_input": "2024-09-15T15:10:47.110556Z",
     "iopub.status.busy": "2024-09-15T15:10:47.110556Z",
     "iopub.status.idle": "2024-09-15T15:11:03.951328Z",
     "shell.execute_reply": "2024-09-15T15:11:03.948439Z",
     "shell.execute_reply.started": "2024-09-15T15:10:47.110556Z"
    }
   },
   "outputs": [
    {
     "name": "stdout",
     "output_type": "stream",
     "text": [
      "StandardScaler()\n"
     ]
    },
    {
     "ename": "ValueError",
     "evalue": "could not convert string to float: '018f'",
     "output_type": "error",
     "traceback": [
      "\u001b[1;31m---------------------------------------------------------------------------\u001b[0m",
      "\u001b[1;31mValueError\u001b[0m                                Traceback (most recent call last)",
      "\u001b[1;32m~\\AppData\\Local\\Temp\\ipykernel_9312\\3165812368.py\u001b[0m in \u001b[0;36m?\u001b[1;34m()\u001b[0m\n\u001b[0;32m      1\u001b[0m \u001b[1;31m# Normalize the data using StandardScaler and log the normalization\u001b[0m\u001b[1;33m\u001b[0m\u001b[1;33m\u001b[0m\u001b[0m\n\u001b[0;32m      2\u001b[0m \u001b[1;32mfrom\u001b[0m \u001b[0msklearn\u001b[0m\u001b[1;33m.\u001b[0m\u001b[0mpreprocessing\u001b[0m \u001b[1;32mimport\u001b[0m \u001b[0mStandardScaler\u001b[0m\u001b[1;33m\u001b[0m\u001b[1;33m\u001b[0m\u001b[0m\n\u001b[0;32m      3\u001b[0m \u001b[0mscaler\u001b[0m \u001b[1;33m=\u001b[0m \u001b[0mStandardScaler\u001b[0m\u001b[1;33m(\u001b[0m\u001b[1;33m)\u001b[0m\u001b[1;33m\u001b[0m\u001b[1;33m\u001b[0m\u001b[0m\n\u001b[0;32m      4\u001b[0m \u001b[0mprint\u001b[0m\u001b[1;33m(\u001b[0m\u001b[0mscaler\u001b[0m\u001b[1;33m)\u001b[0m\u001b[1;33m\u001b[0m\u001b[1;33m\u001b[0m\u001b[0m\n\u001b[1;32m----> 5\u001b[1;33m \u001b[0mX_scaled\u001b[0m \u001b[1;33m=\u001b[0m \u001b[0mscaler\u001b[0m\u001b[1;33m.\u001b[0m\u001b[0mfit_transform\u001b[0m\u001b[1;33m(\u001b[0m\u001b[0mcombined_data\u001b[0m\u001b[1;33m)\u001b[0m\u001b[1;33m\u001b[0m\u001b[1;33m\u001b[0m\u001b[0m\n\u001b[0m\u001b[0;32m      6\u001b[0m \u001b[0mprint\u001b[0m\u001b[1;33m(\u001b[0m\u001b[0mX_scaled\u001b[0m\u001b[1;33m)\u001b[0m\u001b[1;33m\u001b[0m\u001b[1;33m\u001b[0m\u001b[0m\n\u001b[0;32m      7\u001b[0m \u001b[0mlogging\u001b[0m\u001b[1;33m.\u001b[0m\u001b[0minfo\u001b[0m\u001b[1;33m(\u001b[0m\u001b[1;34m\"Data normalized usinf standerd scaler\"\u001b[0m\u001b[1;33m)\u001b[0m\u001b[1;33m\u001b[0m\u001b[1;33m\u001b[0m\u001b[0m\n",
      "\u001b[1;32m~\\AppData\\Local\\anaconda3\\Lib\\site-packages\\sklearn\\utils\\_set_output.py\u001b[0m in \u001b[0;36m?\u001b[1;34m(self, X, *args, **kwargs)\u001b[0m\n\u001b[0;32m    293\u001b[0m     \u001b[1;33m@\u001b[0m\u001b[0mwraps\u001b[0m\u001b[1;33m(\u001b[0m\u001b[0mf\u001b[0m\u001b[1;33m)\u001b[0m\u001b[1;33m\u001b[0m\u001b[1;33m\u001b[0m\u001b[0m\n\u001b[0;32m    294\u001b[0m     \u001b[1;32mdef\u001b[0m \u001b[0mwrapped\u001b[0m\u001b[1;33m(\u001b[0m\u001b[0mself\u001b[0m\u001b[1;33m,\u001b[0m \u001b[0mX\u001b[0m\u001b[1;33m,\u001b[0m \u001b[1;33m*\u001b[0m\u001b[0margs\u001b[0m\u001b[1;33m,\u001b[0m \u001b[1;33m**\u001b[0m\u001b[0mkwargs\u001b[0m\u001b[1;33m)\u001b[0m\u001b[1;33m:\u001b[0m\u001b[1;33m\u001b[0m\u001b[1;33m\u001b[0m\u001b[0m\n\u001b[1;32m--> 295\u001b[1;33m         \u001b[0mdata_to_wrap\u001b[0m \u001b[1;33m=\u001b[0m \u001b[0mf\u001b[0m\u001b[1;33m(\u001b[0m\u001b[0mself\u001b[0m\u001b[1;33m,\u001b[0m \u001b[0mX\u001b[0m\u001b[1;33m,\u001b[0m \u001b[1;33m*\u001b[0m\u001b[0margs\u001b[0m\u001b[1;33m,\u001b[0m \u001b[1;33m**\u001b[0m\u001b[0mkwargs\u001b[0m\u001b[1;33m)\u001b[0m\u001b[1;33m\u001b[0m\u001b[1;33m\u001b[0m\u001b[0m\n\u001b[0m\u001b[0;32m    296\u001b[0m         \u001b[1;32mif\u001b[0m \u001b[0misinstance\u001b[0m\u001b[1;33m(\u001b[0m\u001b[0mdata_to_wrap\u001b[0m\u001b[1;33m,\u001b[0m \u001b[0mtuple\u001b[0m\u001b[1;33m)\u001b[0m\u001b[1;33m:\u001b[0m\u001b[1;33m\u001b[0m\u001b[1;33m\u001b[0m\u001b[0m\n\u001b[0;32m    297\u001b[0m             \u001b[1;31m# only wrap the first output for cross decomposition\u001b[0m\u001b[1;33m\u001b[0m\u001b[1;33m\u001b[0m\u001b[0m\n\u001b[0;32m    298\u001b[0m             return_tuple = (\n",
      "\u001b[1;32m~\\AppData\\Local\\anaconda3\\Lib\\site-packages\\sklearn\\base.py\u001b[0m in \u001b[0;36m?\u001b[1;34m(self, X, y, **fit_params)\u001b[0m\n\u001b[0;32m   1094\u001b[0m                 \u001b[1;33m)\u001b[0m\u001b[1;33m\u001b[0m\u001b[1;33m\u001b[0m\u001b[0m\n\u001b[0;32m   1095\u001b[0m \u001b[1;33m\u001b[0m\u001b[0m\n\u001b[0;32m   1096\u001b[0m         \u001b[1;32mif\u001b[0m \u001b[0my\u001b[0m \u001b[1;32mis\u001b[0m \u001b[1;32mNone\u001b[0m\u001b[1;33m:\u001b[0m\u001b[1;33m\u001b[0m\u001b[1;33m\u001b[0m\u001b[0m\n\u001b[0;32m   1097\u001b[0m             \u001b[1;31m# fit method of arity 1 (unsupervised transformation)\u001b[0m\u001b[1;33m\u001b[0m\u001b[1;33m\u001b[0m\u001b[0m\n\u001b[1;32m-> 1098\u001b[1;33m             \u001b[1;32mreturn\u001b[0m \u001b[0mself\u001b[0m\u001b[1;33m.\u001b[0m\u001b[0mfit\u001b[0m\u001b[1;33m(\u001b[0m\u001b[0mX\u001b[0m\u001b[1;33m,\u001b[0m \u001b[1;33m**\u001b[0m\u001b[0mfit_params\u001b[0m\u001b[1;33m)\u001b[0m\u001b[1;33m.\u001b[0m\u001b[0mtransform\u001b[0m\u001b[1;33m(\u001b[0m\u001b[0mX\u001b[0m\u001b[1;33m)\u001b[0m\u001b[1;33m\u001b[0m\u001b[1;33m\u001b[0m\u001b[0m\n\u001b[0m\u001b[0;32m   1099\u001b[0m         \u001b[1;32melse\u001b[0m\u001b[1;33m:\u001b[0m\u001b[1;33m\u001b[0m\u001b[1;33m\u001b[0m\u001b[0m\n\u001b[0;32m   1100\u001b[0m             \u001b[1;31m# fit method of arity 2 (supervised transformation)\u001b[0m\u001b[1;33m\u001b[0m\u001b[1;33m\u001b[0m\u001b[0m\n\u001b[0;32m   1101\u001b[0m             \u001b[1;32mreturn\u001b[0m \u001b[0mself\u001b[0m\u001b[1;33m.\u001b[0m\u001b[0mfit\u001b[0m\u001b[1;33m(\u001b[0m\u001b[0mX\u001b[0m\u001b[1;33m,\u001b[0m \u001b[0my\u001b[0m\u001b[1;33m,\u001b[0m \u001b[1;33m**\u001b[0m\u001b[0mfit_params\u001b[0m\u001b[1;33m)\u001b[0m\u001b[1;33m.\u001b[0m\u001b[0mtransform\u001b[0m\u001b[1;33m(\u001b[0m\u001b[0mX\u001b[0m\u001b[1;33m)\u001b[0m\u001b[1;33m\u001b[0m\u001b[1;33m\u001b[0m\u001b[0m\n",
      "\u001b[1;32m~\\AppData\\Local\\anaconda3\\Lib\\site-packages\\sklearn\\preprocessing\\_data.py\u001b[0m in \u001b[0;36m?\u001b[1;34m(self, X, y, sample_weight)\u001b[0m\n\u001b[0;32m    872\u001b[0m             \u001b[0mFitted\u001b[0m \u001b[0mscaler\u001b[0m\u001b[1;33m.\u001b[0m\u001b[1;33m\u001b[0m\u001b[1;33m\u001b[0m\u001b[0m\n\u001b[0;32m    873\u001b[0m         \"\"\"\n\u001b[0;32m    874\u001b[0m         \u001b[1;31m# Reset internal state before fitting\u001b[0m\u001b[1;33m\u001b[0m\u001b[1;33m\u001b[0m\u001b[0m\n\u001b[0;32m    875\u001b[0m         \u001b[0mself\u001b[0m\u001b[1;33m.\u001b[0m\u001b[0m_reset\u001b[0m\u001b[1;33m(\u001b[0m\u001b[1;33m)\u001b[0m\u001b[1;33m\u001b[0m\u001b[1;33m\u001b[0m\u001b[0m\n\u001b[1;32m--> 876\u001b[1;33m         \u001b[1;32mreturn\u001b[0m \u001b[0mself\u001b[0m\u001b[1;33m.\u001b[0m\u001b[0mpartial_fit\u001b[0m\u001b[1;33m(\u001b[0m\u001b[0mX\u001b[0m\u001b[1;33m,\u001b[0m \u001b[0my\u001b[0m\u001b[1;33m,\u001b[0m \u001b[0msample_weight\u001b[0m\u001b[1;33m)\u001b[0m\u001b[1;33m\u001b[0m\u001b[1;33m\u001b[0m\u001b[0m\n\u001b[0m",
      "\u001b[1;32m~\\AppData\\Local\\anaconda3\\Lib\\site-packages\\sklearn\\base.py\u001b[0m in \u001b[0;36m?\u001b[1;34m(estimator, *args, **kwargs)\u001b[0m\n\u001b[0;32m   1470\u001b[0m                 skip_parameter_validation=(\n\u001b[0;32m   1471\u001b[0m                     \u001b[0mprefer_skip_nested_validation\u001b[0m \u001b[1;32mor\u001b[0m \u001b[0mglobal_skip_validation\u001b[0m\u001b[1;33m\u001b[0m\u001b[1;33m\u001b[0m\u001b[0m\n\u001b[0;32m   1472\u001b[0m                 \u001b[1;33m)\u001b[0m\u001b[1;33m\u001b[0m\u001b[1;33m\u001b[0m\u001b[0m\n\u001b[0;32m   1473\u001b[0m             \u001b[1;33m)\u001b[0m\u001b[1;33m:\u001b[0m\u001b[1;33m\u001b[0m\u001b[1;33m\u001b[0m\u001b[0m\n\u001b[1;32m-> 1474\u001b[1;33m                 \u001b[1;32mreturn\u001b[0m \u001b[0mfit_method\u001b[0m\u001b[1;33m(\u001b[0m\u001b[0mestimator\u001b[0m\u001b[1;33m,\u001b[0m \u001b[1;33m*\u001b[0m\u001b[0margs\u001b[0m\u001b[1;33m,\u001b[0m \u001b[1;33m**\u001b[0m\u001b[0mkwargs\u001b[0m\u001b[1;33m)\u001b[0m\u001b[1;33m\u001b[0m\u001b[1;33m\u001b[0m\u001b[0m\n\u001b[0m",
      "\u001b[1;32m~\\AppData\\Local\\anaconda3\\Lib\\site-packages\\sklearn\\preprocessing\\_data.py\u001b[0m in \u001b[0;36m?\u001b[1;34m(self, X, y, sample_weight)\u001b[0m\n\u001b[0;32m    908\u001b[0m         \u001b[0mself\u001b[0m \u001b[1;33m:\u001b[0m \u001b[0mobject\u001b[0m\u001b[1;33m\u001b[0m\u001b[1;33m\u001b[0m\u001b[0m\n\u001b[0;32m    909\u001b[0m             \u001b[0mFitted\u001b[0m \u001b[0mscaler\u001b[0m\u001b[1;33m.\u001b[0m\u001b[1;33m\u001b[0m\u001b[1;33m\u001b[0m\u001b[0m\n\u001b[0;32m    910\u001b[0m         \"\"\"\n\u001b[0;32m    911\u001b[0m         \u001b[0mfirst_call\u001b[0m \u001b[1;33m=\u001b[0m \u001b[1;32mnot\u001b[0m \u001b[0mhasattr\u001b[0m\u001b[1;33m(\u001b[0m\u001b[0mself\u001b[0m\u001b[1;33m,\u001b[0m \u001b[1;34m\"n_samples_seen_\"\u001b[0m\u001b[1;33m)\u001b[0m\u001b[1;33m\u001b[0m\u001b[1;33m\u001b[0m\u001b[0m\n\u001b[1;32m--> 912\u001b[1;33m         X = self._validate_data(\n\u001b[0m\u001b[0;32m    913\u001b[0m             \u001b[0mX\u001b[0m\u001b[1;33m,\u001b[0m\u001b[1;33m\u001b[0m\u001b[1;33m\u001b[0m\u001b[0m\n\u001b[0;32m    914\u001b[0m             \u001b[0maccept_sparse\u001b[0m\u001b[1;33m=\u001b[0m\u001b[1;33m(\u001b[0m\u001b[1;34m\"csr\"\u001b[0m\u001b[1;33m,\u001b[0m \u001b[1;34m\"csc\"\u001b[0m\u001b[1;33m)\u001b[0m\u001b[1;33m,\u001b[0m\u001b[1;33m\u001b[0m\u001b[1;33m\u001b[0m\u001b[0m\n\u001b[0;32m    915\u001b[0m             \u001b[0mdtype\u001b[0m\u001b[1;33m=\u001b[0m\u001b[0mFLOAT_DTYPES\u001b[0m\u001b[1;33m,\u001b[0m\u001b[1;33m\u001b[0m\u001b[1;33m\u001b[0m\u001b[0m\n",
      "\u001b[1;32m~\\AppData\\Local\\anaconda3\\Lib\\site-packages\\sklearn\\base.py\u001b[0m in \u001b[0;36m?\u001b[1;34m(self, X, y, reset, validate_separately, cast_to_ndarray, **check_params)\u001b[0m\n\u001b[0;32m    629\u001b[0m                 \u001b[0mout\u001b[0m \u001b[1;33m=\u001b[0m \u001b[0my\u001b[0m\u001b[1;33m\u001b[0m\u001b[1;33m\u001b[0m\u001b[0m\n\u001b[0;32m    630\u001b[0m             \u001b[1;32melse\u001b[0m\u001b[1;33m:\u001b[0m\u001b[1;33m\u001b[0m\u001b[1;33m\u001b[0m\u001b[0m\n\u001b[0;32m    631\u001b[0m                 \u001b[0mout\u001b[0m \u001b[1;33m=\u001b[0m \u001b[0mX\u001b[0m\u001b[1;33m,\u001b[0m \u001b[0my\u001b[0m\u001b[1;33m\u001b[0m\u001b[1;33m\u001b[0m\u001b[0m\n\u001b[0;32m    632\u001b[0m         \u001b[1;32melif\u001b[0m \u001b[1;32mnot\u001b[0m \u001b[0mno_val_X\u001b[0m \u001b[1;32mand\u001b[0m \u001b[0mno_val_y\u001b[0m\u001b[1;33m:\u001b[0m\u001b[1;33m\u001b[0m\u001b[1;33m\u001b[0m\u001b[0m\n\u001b[1;32m--> 633\u001b[1;33m             \u001b[0mout\u001b[0m \u001b[1;33m=\u001b[0m \u001b[0mcheck_array\u001b[0m\u001b[1;33m(\u001b[0m\u001b[0mX\u001b[0m\u001b[1;33m,\u001b[0m \u001b[0minput_name\u001b[0m\u001b[1;33m=\u001b[0m\u001b[1;34m\"X\"\u001b[0m\u001b[1;33m,\u001b[0m \u001b[1;33m**\u001b[0m\u001b[0mcheck_params\u001b[0m\u001b[1;33m)\u001b[0m\u001b[1;33m\u001b[0m\u001b[1;33m\u001b[0m\u001b[0m\n\u001b[0m\u001b[0;32m    634\u001b[0m         \u001b[1;32melif\u001b[0m \u001b[0mno_val_X\u001b[0m \u001b[1;32mand\u001b[0m \u001b[1;32mnot\u001b[0m \u001b[0mno_val_y\u001b[0m\u001b[1;33m:\u001b[0m\u001b[1;33m\u001b[0m\u001b[1;33m\u001b[0m\u001b[0m\n\u001b[0;32m    635\u001b[0m             \u001b[0mout\u001b[0m \u001b[1;33m=\u001b[0m \u001b[0m_check_y\u001b[0m\u001b[1;33m(\u001b[0m\u001b[0my\u001b[0m\u001b[1;33m,\u001b[0m \u001b[1;33m**\u001b[0m\u001b[0mcheck_params\u001b[0m\u001b[1;33m)\u001b[0m\u001b[1;33m\u001b[0m\u001b[1;33m\u001b[0m\u001b[0m\n\u001b[0;32m    636\u001b[0m         \u001b[1;32melse\u001b[0m\u001b[1;33m:\u001b[0m\u001b[1;33m\u001b[0m\u001b[1;33m\u001b[0m\u001b[0m\n",
      "\u001b[1;32m~\\AppData\\Local\\anaconda3\\Lib\\site-packages\\sklearn\\utils\\validation.py\u001b[0m in \u001b[0;36m?\u001b[1;34m(array, accept_sparse, accept_large_sparse, dtype, order, copy, force_all_finite, ensure_2d, allow_nd, ensure_min_samples, ensure_min_features, estimator, input_name)\u001b[0m\n\u001b[0;32m    994\u001b[0m                         \u001b[1;33m)\u001b[0m\u001b[1;33m\u001b[0m\u001b[1;33m\u001b[0m\u001b[0m\n\u001b[0;32m    995\u001b[0m                     \u001b[0marray\u001b[0m \u001b[1;33m=\u001b[0m \u001b[0mxp\u001b[0m\u001b[1;33m.\u001b[0m\u001b[0mastype\u001b[0m\u001b[1;33m(\u001b[0m\u001b[0marray\u001b[0m\u001b[1;33m,\u001b[0m \u001b[0mdtype\u001b[0m\u001b[1;33m,\u001b[0m \u001b[0mcopy\u001b[0m\u001b[1;33m=\u001b[0m\u001b[1;32mFalse\u001b[0m\u001b[1;33m)\u001b[0m\u001b[1;33m\u001b[0m\u001b[1;33m\u001b[0m\u001b[0m\n\u001b[0;32m    996\u001b[0m                 \u001b[1;32melse\u001b[0m\u001b[1;33m:\u001b[0m\u001b[1;33m\u001b[0m\u001b[1;33m\u001b[0m\u001b[0m\n\u001b[0;32m    997\u001b[0m                     \u001b[0marray\u001b[0m \u001b[1;33m=\u001b[0m \u001b[0m_asarray_with_order\u001b[0m\u001b[1;33m(\u001b[0m\u001b[0marray\u001b[0m\u001b[1;33m,\u001b[0m \u001b[0morder\u001b[0m\u001b[1;33m=\u001b[0m\u001b[0morder\u001b[0m\u001b[1;33m,\u001b[0m \u001b[0mdtype\u001b[0m\u001b[1;33m=\u001b[0m\u001b[0mdtype\u001b[0m\u001b[1;33m,\u001b[0m \u001b[0mxp\u001b[0m\u001b[1;33m=\u001b[0m\u001b[0mxp\u001b[0m\u001b[1;33m)\u001b[0m\u001b[1;33m\u001b[0m\u001b[1;33m\u001b[0m\u001b[0m\n\u001b[1;32m--> 998\u001b[1;33m             \u001b[1;32mexcept\u001b[0m \u001b[0mComplexWarning\u001b[0m \u001b[1;32mas\u001b[0m \u001b[0mcomplex_warning\u001b[0m\u001b[1;33m:\u001b[0m\u001b[1;33m\u001b[0m\u001b[1;33m\u001b[0m\u001b[0m\n\u001b[0m\u001b[0;32m    999\u001b[0m                 raise ValueError(\n\u001b[0;32m   1000\u001b[0m                     \u001b[1;34m\"Complex data not supported\\n{}\\n\"\u001b[0m\u001b[1;33m.\u001b[0m\u001b[0mformat\u001b[0m\u001b[1;33m(\u001b[0m\u001b[0marray\u001b[0m\u001b[1;33m)\u001b[0m\u001b[1;33m\u001b[0m\u001b[1;33m\u001b[0m\u001b[0m\n\u001b[0;32m   1001\u001b[0m                 \u001b[1;33m)\u001b[0m \u001b[1;32mfrom\u001b[0m \u001b[0mcomplex_warning\u001b[0m\u001b[1;33m\u001b[0m\u001b[1;33m\u001b[0m\u001b[0m\n",
      "\u001b[1;32m~\\AppData\\Local\\anaconda3\\Lib\\site-packages\\sklearn\\utils\\_array_api.py\u001b[0m in \u001b[0;36m?\u001b[1;34m(array, dtype, order, copy, xp)\u001b[0m\n\u001b[0;32m    517\u001b[0m         \u001b[1;31m# Use NumPy API to support order\u001b[0m\u001b[1;33m\u001b[0m\u001b[1;33m\u001b[0m\u001b[0m\n\u001b[0;32m    518\u001b[0m         \u001b[1;32mif\u001b[0m \u001b[0mcopy\u001b[0m \u001b[1;32mis\u001b[0m \u001b[1;32mTrue\u001b[0m\u001b[1;33m:\u001b[0m\u001b[1;33m\u001b[0m\u001b[1;33m\u001b[0m\u001b[0m\n\u001b[0;32m    519\u001b[0m             \u001b[0marray\u001b[0m \u001b[1;33m=\u001b[0m \u001b[0mnumpy\u001b[0m\u001b[1;33m.\u001b[0m\u001b[0marray\u001b[0m\u001b[1;33m(\u001b[0m\u001b[0marray\u001b[0m\u001b[1;33m,\u001b[0m \u001b[0morder\u001b[0m\u001b[1;33m=\u001b[0m\u001b[0morder\u001b[0m\u001b[1;33m,\u001b[0m \u001b[0mdtype\u001b[0m\u001b[1;33m=\u001b[0m\u001b[0mdtype\u001b[0m\u001b[1;33m)\u001b[0m\u001b[1;33m\u001b[0m\u001b[1;33m\u001b[0m\u001b[0m\n\u001b[0;32m    520\u001b[0m         \u001b[1;32melse\u001b[0m\u001b[1;33m:\u001b[0m\u001b[1;33m\u001b[0m\u001b[1;33m\u001b[0m\u001b[0m\n\u001b[1;32m--> 521\u001b[1;33m             \u001b[0marray\u001b[0m \u001b[1;33m=\u001b[0m \u001b[0mnumpy\u001b[0m\u001b[1;33m.\u001b[0m\u001b[0masarray\u001b[0m\u001b[1;33m(\u001b[0m\u001b[0marray\u001b[0m\u001b[1;33m,\u001b[0m \u001b[0morder\u001b[0m\u001b[1;33m=\u001b[0m\u001b[0morder\u001b[0m\u001b[1;33m,\u001b[0m \u001b[0mdtype\u001b[0m\u001b[1;33m=\u001b[0m\u001b[0mdtype\u001b[0m\u001b[1;33m)\u001b[0m\u001b[1;33m\u001b[0m\u001b[1;33m\u001b[0m\u001b[0m\n\u001b[0m\u001b[0;32m    522\u001b[0m \u001b[1;33m\u001b[0m\u001b[0m\n\u001b[0;32m    523\u001b[0m         \u001b[1;31m# At this point array is a NumPy ndarray. We convert it to an array\u001b[0m\u001b[1;33m\u001b[0m\u001b[1;33m\u001b[0m\u001b[0m\n\u001b[0;32m    524\u001b[0m         \u001b[1;31m# container that is consistent with the input's namespace.\u001b[0m\u001b[1;33m\u001b[0m\u001b[1;33m\u001b[0m\u001b[0m\n",
      "\u001b[1;32m~\\AppData\\Local\\anaconda3\\Lib\\site-packages\\pandas\\core\\generic.py\u001b[0m in \u001b[0;36m?\u001b[1;34m(self, dtype)\u001b[0m\n\u001b[0;32m   2148\u001b[0m     \u001b[1;32mdef\u001b[0m \u001b[0m__array__\u001b[0m\u001b[1;33m(\u001b[0m\u001b[0mself\u001b[0m\u001b[1;33m,\u001b[0m \u001b[0mdtype\u001b[0m\u001b[1;33m:\u001b[0m \u001b[0mnpt\u001b[0m\u001b[1;33m.\u001b[0m\u001b[0mDTypeLike\u001b[0m \u001b[1;33m|\u001b[0m \u001b[1;32mNone\u001b[0m \u001b[1;33m=\u001b[0m \u001b[1;32mNone\u001b[0m\u001b[1;33m)\u001b[0m \u001b[1;33m->\u001b[0m \u001b[0mnp\u001b[0m\u001b[1;33m.\u001b[0m\u001b[0mndarray\u001b[0m\u001b[1;33m:\u001b[0m\u001b[1;33m\u001b[0m\u001b[1;33m\u001b[0m\u001b[0m\n\u001b[0;32m   2149\u001b[0m         \u001b[0mvalues\u001b[0m \u001b[1;33m=\u001b[0m \u001b[0mself\u001b[0m\u001b[1;33m.\u001b[0m\u001b[0m_values\u001b[0m\u001b[1;33m\u001b[0m\u001b[1;33m\u001b[0m\u001b[0m\n\u001b[1;32m-> 2150\u001b[1;33m         \u001b[0marr\u001b[0m \u001b[1;33m=\u001b[0m \u001b[0mnp\u001b[0m\u001b[1;33m.\u001b[0m\u001b[0masarray\u001b[0m\u001b[1;33m(\u001b[0m\u001b[0mvalues\u001b[0m\u001b[1;33m,\u001b[0m \u001b[0mdtype\u001b[0m\u001b[1;33m=\u001b[0m\u001b[0mdtype\u001b[0m\u001b[1;33m)\u001b[0m\u001b[1;33m\u001b[0m\u001b[1;33m\u001b[0m\u001b[0m\n\u001b[0m\u001b[0;32m   2151\u001b[0m         if (\n\u001b[0;32m   2152\u001b[0m             \u001b[0mastype_is_view\u001b[0m\u001b[1;33m(\u001b[0m\u001b[0mvalues\u001b[0m\u001b[1;33m.\u001b[0m\u001b[0mdtype\u001b[0m\u001b[1;33m,\u001b[0m \u001b[0marr\u001b[0m\u001b[1;33m.\u001b[0m\u001b[0mdtype\u001b[0m\u001b[1;33m)\u001b[0m\u001b[1;33m\u001b[0m\u001b[1;33m\u001b[0m\u001b[0m\n\u001b[0;32m   2153\u001b[0m             \u001b[1;32mand\u001b[0m \u001b[0musing_copy_on_write\u001b[0m\u001b[1;33m(\u001b[0m\u001b[1;33m)\u001b[0m\u001b[1;33m\u001b[0m\u001b[1;33m\u001b[0m\u001b[0m\n",
      "\u001b[1;31mValueError\u001b[0m: could not convert string to float: '018f'"
     ]
    }
   ],
   "source": [
    "# Normalize the data using StandardScaler and log the normalization\n",
    "from sklearn.preprocessing import StandardScaler\n",
    "scaler = StandardScaler()\n",
    "print(scaler)\n",
    "X_scaled = scaler.fit_transform(combined_data)\n",
    "print(X_scaled)\n",
    "logging.info(\"Data normalized usinf standerd scaler\")"
   ]
  },
  {
   "cell_type": "markdown",
   "id": "8faa1b80-ed5f-4ab9-bb2e-8199e91a6ae7",
   "metadata": {},
   "source": [
    "Solution:\n",
    "Identify and Remove Non-Numeric Columns: If there are columns in your dataset that contain strings or non-numeric data (e.g., categorical values, text), you will need to either remove those columns or convert them to numeric values.\n",
    "\n",
    "Convert Non-Numeric Columns: You can convert non-numeric columns using techniques like One-Hot Encoding (for categorical data) or label encoding, depending on the nature of the data.\n",
    "\n",
    "Drop Invalid Rows: If some specific rows contain strings or invalid entries in otherwise numeric columns, you can filter those rows out."
   ]
  },
  {
   "cell_type": "code",
   "execution_count": 15,
   "id": "26b6fe1f-ba6c-4d4f-b9cb-d48ba55ebe5d",
   "metadata": {
    "execution": {
     "iopub.execute_input": "2024-09-15T15:13:09.058565Z",
     "iopub.status.busy": "2024-09-15T15:13:09.058565Z",
     "iopub.status.idle": "2024-09-15T15:13:09.068694Z",
     "shell.execute_reply": "2024-09-15T15:13:09.068694Z",
     "shell.execute_reply.started": "2024-09-15T15:13:09.058565Z"
    }
   },
   "outputs": [
    {
     "name": "stdout",
     "output_type": "stream",
     "text": [
      "1478198376.389427    float64\n",
      "0316                  object\n",
      "8                      int64\n",
      "05                    object\n",
      "21                    object\n",
      "68                    object\n",
      "09                    object\n",
      "21.1                  object\n",
      "21.2                  object\n",
      "00                    object\n",
      "6f                    object\n",
      "R                     object\n",
      "1478195721.903877    float64\n",
      "0545                  object\n",
      "d8                    object\n",
      "00.1                  object\n",
      "8a                    object\n",
      "00.2                  object\n",
      "00.3                  object\n",
      "00.4                  object\n",
      "00.5                  object\n",
      "1478193190.056566    float64\n",
      "0140                  object\n",
      "10                    object\n",
      "29                    object\n",
      "2a                    object\n",
      "24                    object\n",
      "1478191030.045114    float64\n",
      "22                    object\n",
      "22.1                  object\n",
      "20                    object\n",
      "75                    object\n",
      "dtype: object\n"
     ]
    }
   ],
   "source": [
    "print(combined_data.dtypes)"
   ]
  },
  {
   "cell_type": "code",
   "execution_count": 17,
   "id": "65dc011c-9d87-40e3-8032-73461cbb5dda",
   "metadata": {
    "execution": {
     "iopub.execute_input": "2024-09-15T15:13:16.014030Z",
     "iopub.status.busy": "2024-09-15T15:13:16.013031Z",
     "iopub.status.idle": "2024-09-15T15:15:35.739741Z",
     "shell.execute_reply": "2024-09-15T15:15:35.738850Z",
     "shell.execute_reply.started": "2024-09-15T15:13:16.014030Z"
    }
   },
   "outputs": [
    {
     "name": "stderr",
     "output_type": "stream",
     "text": [
      "C:\\Users\\11549\\AppData\\Local\\Temp\\ipykernel_9312\\3315938079.py:1: FutureWarning: DataFrame.applymap has been deprecated. Use DataFrame.map instead.\n",
      "  print(combined_data.applymap(lambda x:isinstance(x,str)).sum())\n"
     ]
    },
    {
     "name": "stdout",
     "output_type": "stream",
     "text": [
      "1478198376.389427           0\n",
      "0316                 16569471\n",
      "8                           0\n",
      "05                   16569471\n",
      "21                   16569471\n",
      "68                   16569471\n",
      "09                   16569471\n",
      "21.1                 16569471\n",
      "21.2                 16569471\n",
      "00                   16569471\n",
      "6f                   16569471\n",
      "R                    16569471\n",
      "1478195721.903877           0\n",
      "0545                 12903701\n",
      "d8                   12903701\n",
      "00.1                 12903701\n",
      "8a                   12903701\n",
      "00.2                 12903701\n",
      "00.3                 12903701\n",
      "00.4                 12903700\n",
      "00.5                 12903700\n",
      "1478193190.056566           0\n",
      "0140                  9064842\n",
      "10                    9064842\n",
      "29                    9064842\n",
      "2a                    9064842\n",
      "24                    9064842\n",
      "1478191030.045114           0\n",
      "22                    4621701\n",
      "22.1                  4621701\n",
      "20                    4621701\n",
      "75                    4621701\n",
      "dtype: int64\n"
     ]
    }
   ],
   "source": [
    "print(combined_data.applymap(lambda x:isinstance(x,str)).sum())"
   ]
  },
  {
   "cell_type": "code",
   "execution_count": null,
   "id": "c090ad95-a95a-4675-97a1-054328c5d129",
   "metadata": {},
   "outputs": [],
   "source": []
  },
  {
   "cell_type": "markdown",
   "id": "5a9f08f3-89f5-40fe-886e-1a70d168dbb8",
   "metadata": {},
   "source": [
    "don’t want to remove non-numeric columns, you can convert them into a format that can be processed for machine learning models. Typically, for categorical or string data, you have two main options:\n",
    "\n",
    "1. Convert Categorical Data into Numerical Data:\n",
    "One-Hot Encoding: This creates a binary column for each category, where a value of 1 indicates the presence of the category, and 0 indicates its absence.\n",
    "Label Encoding: This assigns a unique integer to each category.\n"
   ]
  },
  {
   "cell_type": "markdown",
   "id": "07ba6547-8400-44c6-899b-2bd460cd9ede",
   "metadata": {},
   "source": [
    "# after [9]  cell completd the code start here as we faced error above"
   ]
  },
  {
   "cell_type": "code",
   "execution_count": 21,
   "id": "44de67c9-f4c7-4d39-afcc-a79e7d1c1ac2",
   "metadata": {
    "execution": {
     "iopub.execute_input": "2024-09-15T15:18:36.224893Z",
     "iopub.status.busy": "2024-09-15T15:18:36.224893Z",
     "iopub.status.idle": "2024-09-15T15:18:36.229000Z",
     "shell.execute_reply": "2024-09-15T15:18:36.229000Z",
     "shell.execute_reply.started": "2024-09-15T15:18:36.224893Z"
    }
   },
   "outputs": [],
   "source": [
    "# sperate numerical and categorcal columns\n",
    "Numn"
   ]
  },
  {
   "cell_type": "code",
   "execution_count": null,
   "id": "35ce28f5-0c95-4fa5-a161-6bc66c639cc2",
   "metadata": {},
   "outputs": [],
   "source": []
  }
 ],
 "metadata": {
  "kernelspec": {
   "display_name": "Python 3 (ipykernel)",
   "language": "python",
   "name": "python3"
  },
  "language_info": {
   "codemirror_mode": {
    "name": "ipython",
    "version": 3
   },
   "file_extension": ".py",
   "mimetype": "text/x-python",
   "name": "python",
   "nbconvert_exporter": "python",
   "pygments_lexer": "ipython3",
   "version": "3.12.3"
  }
 },
 "nbformat": 4,
 "nbformat_minor": 5
}
