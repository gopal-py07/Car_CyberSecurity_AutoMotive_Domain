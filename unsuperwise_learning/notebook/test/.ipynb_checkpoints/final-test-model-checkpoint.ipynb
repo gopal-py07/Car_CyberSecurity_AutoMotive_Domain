{
 "cells": [
  {
   "cell_type": "code",
   "execution_count": null,
   "id": "21477a8d-ccb0-4f3d-989b-e39c2f33b483",
   "metadata": {},
   "outputs": [],
   "source": []
  }
 ],
 "metadata": {
  "kernelspec": {
   "display_name": "Python 3 (ipykernel)",
   "language": "python",
   "name": "python3"
  },
  "language_info": {
   "codemirror_mode": {
    "name": "ipython",
    "version": 3
   },
   "file_extension": ".py",
   "mimetype": "text/x-python",
   "name": "python",
   "nbconvert_exporter": "python",
   "pygments_lexer": "ipython3",
   "version": "3.12.3"
  }
 },
 "nbformat": 4,
 "nbformat_minor": 5
}
